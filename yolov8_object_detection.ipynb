{
  "nbformat": 4,
  "nbformat_minor": 0,
  "metadata": {
    "colab": {
      "provenance": [],
      "authorship_tag": "ABX9TyPanervIsuDOgrP4jsAn1cJ",
      "include_colab_link": true
    },
    "kernelspec": {
      "name": "python3",
      "display_name": "Python 3"
    },
    "language_info": {
      "name": "python"
    }
  },
  "cells": [
    {
      "cell_type": "markdown",
      "metadata": {
        "id": "view-in-github",
        "colab_type": "text"
      },
      "source": [
        "<a href=\"https://colab.research.google.com/github/kevinbednarek/yolov8-object-detection/blob/main/yolov8_object_detection.ipynb\" target=\"_parent\"><img src=\"https://colab.research.google.com/assets/colab-badge.svg\" alt=\"Open In Colab\"/></a>"
      ]
    },
    {
      "cell_type": "markdown",
      "source": [
        "# YOLOv8 Examples"
      ],
      "metadata": {
        "id": "3inr39hVoV-f"
      }
    },
    {
      "cell_type": "code",
      "execution_count": 1,
      "metadata": {
        "colab": {
          "base_uri": "https://localhost:8080/"
        },
        "id": "QAy3UlBhJFYx",
        "outputId": "53374aeb-4814-4507-e300-7fc5c29db1c8"
      },
      "outputs": [
        {
          "output_type": "stream",
          "name": "stderr",
          "text": [
            "Ultralytics YOLOv8.0.82 🚀 Python-3.9.16 torch-2.0.0+cu118 CPU\n",
            "Setup complete ✅ (2 CPUs, 12.7 GB RAM, 28.6/107.7 GB disk)\n"
          ]
        }
      ],
      "source": [
        "%pip install ultralytics\n",
        "import ultralytics\n",
        "ultralytics.checks()"
      ]
    },
    {
      "cell_type": "markdown",
      "source": [
        "# Prediction"
      ],
      "metadata": {
        "id": "7SHCCNIfK-vP"
      }
    },
    {
      "cell_type": "code",
      "source": [
        "# Run object detection with yolo CLI\n",
        "!yolo predict model=yolov8n.pt source='https://ultralytics.com/images/bus.jpg'"
      ],
      "metadata": {
        "colab": {
          "base_uri": "https://localhost:8080/"
        },
        "id": "XJbXMw8AJQBb",
        "outputId": "3733b454-1d06-48b0-9d15-07ed392edba4"
      },
      "execution_count": 9,
      "outputs": [
        {
          "output_type": "stream",
          "name": "stdout",
          "text": [
            "Ultralytics YOLOv8.0.82 🚀 Python-3.9.16 torch-2.0.0+cu118 CPU\n",
            "YOLOv8n summary (fused): 168 layers, 3151904 parameters, 0 gradients, 8.7 GFLOPs\n",
            "\n",
            "Found https://ultralytics.com/images/bus.jpg locally at bus.jpg\n",
            "image 1/1 /content/bus.jpg: 640x480 4 persons, 1 bus, 1 stop sign, 193.8ms\n",
            "Speed: 2.7ms preprocess, 193.8ms inference, 1.9ms postprocess per image at shape (1, 3, 640, 640)\n",
            "Results saved to \u001b[1mruns/detect/predict3\u001b[0m\n"
          ]
        }
      ]
    },
    {
      "cell_type": "code",
      "source": [
        "#Python implementation of yolo object detection/prediction\n",
        "# Load YOLOv8n, train it on COCO128 for 3 epochs and predict an image with it\n",
        "from ultralytics import YOLO\n",
        "\n",
        "model = YOLO('yolov8n.pt')  # load a pretrained YOLOv8n detection model\n",
        "model.train(data='coco128.yaml', epochs=3)  # train the model\n",
        "model('https://ultralytics.com/images/bus.jpg')  # predict on an image"
      ],
      "metadata": {
        "colab": {
          "base_uri": "https://localhost:8080/"
        },
        "id": "p03a8VG7MkIC",
        "outputId": "9729d986-4bda-4825-ced0-c17921ee1570"
      },
      "execution_count": 4,
      "outputs": [
        {
          "output_type": "stream",
          "name": "stderr",
          "text": [
            "Ultralytics YOLOv8.0.82 🚀 Python-3.9.16 torch-2.0.0+cu118 CPU\n",
            "\u001b[34m\u001b[1myolo/engine/trainer: \u001b[0mtask=detect, mode=train, model=yolov8n.pt, data=coco128.yaml, epochs=3, patience=50, batch=16, imgsz=640, save=True, save_period=-1, cache=False, device=None, workers=8, project=None, name=None, exist_ok=False, pretrained=False, optimizer=SGD, verbose=True, seed=0, deterministic=True, single_cls=False, image_weights=False, rect=False, cos_lr=False, close_mosaic=0, resume=False, amp=True, overlap_mask=True, mask_ratio=4, dropout=0.0, val=True, split=val, save_json=False, save_hybrid=False, conf=None, iou=0.7, max_det=300, half=False, dnn=False, plots=True, source=None, show=False, save_txt=False, save_conf=False, save_crop=False, show_labels=True, show_conf=True, vid_stride=1, line_thickness=3, visualize=False, augment=False, agnostic_nms=False, classes=None, retina_masks=False, boxes=True, format=torchscript, keras=False, optimize=False, int8=False, dynamic=False, simplify=False, opset=None, workspace=4, nms=False, lr0=0.01, lrf=0.01, momentum=0.937, weight_decay=0.0005, warmup_epochs=3.0, warmup_momentum=0.8, warmup_bias_lr=0.1, box=7.5, cls=0.5, dfl=1.5, pose=12.0, kobj=1.0, label_smoothing=0.0, nbs=64, hsv_h=0.015, hsv_s=0.7, hsv_v=0.4, degrees=0.0, translate=0.1, scale=0.5, shear=0.0, perspective=0.0, flipud=0.0, fliplr=0.5, mosaic=1.0, mixup=0.0, copy_paste=0.0, cfg=None, v5loader=False, tracker=botsort.yaml, save_dir=runs/detect/train\n",
            "\n",
            "Dataset 'coco128.yaml' images not found ⚠️, missing paths ['/content/datasets/coco128/images/train2017']\n",
            "Downloading https://ultralytics.com/assets/coco128.zip to /content/datasets/coco128.zip...\n",
            "100%|██████████| 6.66M/6.66M [00:00<00:00, 104MB/s]\n",
            "Unzipping /content/datasets/coco128.zip to /content/datasets...\n",
            "Dataset download success ✅ (1.1s), saved to \u001b[1m/content/datasets\u001b[0m\n",
            "\n",
            "Downloading https://ultralytics.com/assets/Arial.ttf to /root/.config/Ultralytics/Arial.ttf...\n",
            "100%|██████████| 755k/755k [00:00<00:00, 22.5MB/s]\n",
            "\n",
            "                   from  n    params  module                                       arguments                     \n",
            "  0                  -1  1       464  ultralytics.nn.modules.Conv                  [3, 16, 3, 2]                 \n",
            "  1                  -1  1      4672  ultralytics.nn.modules.Conv                  [16, 32, 3, 2]                \n",
            "  2                  -1  1      7360  ultralytics.nn.modules.C2f                   [32, 32, 1, True]             \n",
            "  3                  -1  1     18560  ultralytics.nn.modules.Conv                  [32, 64, 3, 2]                \n",
            "  4                  -1  2     49664  ultralytics.nn.modules.C2f                   [64, 64, 2, True]             \n",
            "  5                  -1  1     73984  ultralytics.nn.modules.Conv                  [64, 128, 3, 2]               \n",
            "  6                  -1  2    197632  ultralytics.nn.modules.C2f                   [128, 128, 2, True]           \n",
            "  7                  -1  1    295424  ultralytics.nn.modules.Conv                  [128, 256, 3, 2]              \n",
            "  8                  -1  1    460288  ultralytics.nn.modules.C2f                   [256, 256, 1, True]           \n",
            "  9                  -1  1    164608  ultralytics.nn.modules.SPPF                  [256, 256, 5]                 \n",
            " 10                  -1  1         0  torch.nn.modules.upsampling.Upsample         [None, 2, 'nearest']          \n",
            " 11             [-1, 6]  1         0  ultralytics.nn.modules.Concat                [1]                           \n",
            " 12                  -1  1    148224  ultralytics.nn.modules.C2f                   [384, 128, 1]                 \n",
            " 13                  -1  1         0  torch.nn.modules.upsampling.Upsample         [None, 2, 'nearest']          \n",
            " 14             [-1, 4]  1         0  ultralytics.nn.modules.Concat                [1]                           \n",
            " 15                  -1  1     37248  ultralytics.nn.modules.C2f                   [192, 64, 1]                  \n",
            " 16                  -1  1     36992  ultralytics.nn.modules.Conv                  [64, 64, 3, 2]                \n",
            " 17            [-1, 12]  1         0  ultralytics.nn.modules.Concat                [1]                           \n",
            " 18                  -1  1    123648  ultralytics.nn.modules.C2f                   [192, 128, 1]                 \n",
            " 19                  -1  1    147712  ultralytics.nn.modules.Conv                  [128, 128, 3, 2]              \n",
            " 20             [-1, 9]  1         0  ultralytics.nn.modules.Concat                [1]                           \n",
            " 21                  -1  1    493056  ultralytics.nn.modules.C2f                   [384, 256, 1]                 \n",
            " 22        [15, 18, 21]  1    897664  ultralytics.nn.modules.Detect                [80, [64, 128, 256]]          \n",
            "Model summary: 225 layers, 3157200 parameters, 3157184 gradients, 8.9 GFLOPs\n",
            "\n",
            "Transferred 355/355 items from pretrained weights\n",
            "\u001b[34m\u001b[1mTensorBoard: \u001b[0mStart with 'tensorboard --logdir runs/detect/train', view at http://localhost:6006/\n",
            "\u001b[34m\u001b[1moptimizer:\u001b[0m SGD(lr=0.01) with parameter groups 57 weight(decay=0.0), 64 weight(decay=0.0005), 63 bias\n",
            "\u001b[34m\u001b[1mtrain: \u001b[0mScanning /content/datasets/coco128/labels/train2017... 126 images, 2 backgrounds, 0 corrupt: 100%|██████████| 128/128 [00:00<00:00, 1670.23it/s]\n",
            "\u001b[34m\u001b[1mtrain: \u001b[0mNew cache created: /content/datasets/coco128/labels/train2017.cache\n",
            "\u001b[34m\u001b[1malbumentations: \u001b[0mBlur(p=0.01, blur_limit=(3, 7)), MedianBlur(p=0.01, blur_limit=(3, 7)), ToGray(p=0.01), CLAHE(p=0.01, clip_limit=(1, 4.0), tile_grid_size=(8, 8))\n",
            "\u001b[34m\u001b[1mval: \u001b[0mScanning /content/datasets/coco128/labels/train2017.cache... 126 images, 2 backgrounds, 0 corrupt: 100%|██████████| 128/128 [00:00<?, ?it/s]\n",
            "Plotting labels to runs/detect/train/labels.jpg... \n",
            "Image sizes 640 train, 640 val\n",
            "Using 0 dataloader workers\n",
            "Logging results to \u001b[1mruns/detect/train\u001b[0m\n",
            "Starting training for 3 epochs...\n",
            "\n",
            "      Epoch    GPU_mem   box_loss   cls_loss   dfl_loss  Instances       Size\n",
            "        1/3         0G      1.172      1.402      1.238        189        640: 100%|██████████| 8/8 [02:09<00:00, 16.19s/it]\n",
            "                 Class     Images  Instances      Box(P          R      mAP50  mAP50-95): 100%|██████████| 4/4 [00:38<00:00,  9.55s/it]\n",
            "                   all        128        929      0.653       0.56      0.627      0.462\n",
            "\n",
            "      Epoch    GPU_mem   box_loss   cls_loss   dfl_loss  Instances       Size\n",
            "        2/3         0G      1.216       1.33      1.251        232        640: 100%|██████████| 8/8 [01:58<00:00, 14.82s/it]\n",
            "                 Class     Images  Instances      Box(P          R      mAP50  mAP50-95): 100%|██████████| 4/4 [00:39<00:00,  9.78s/it]\n",
            "                   all        128        929      0.669      0.586      0.646      0.479\n",
            "\n",
            "      Epoch    GPU_mem   box_loss   cls_loss   dfl_loss  Instances       Size\n",
            "        3/3         0G      1.168      1.263       1.23        200        640: 100%|██████████| 8/8 [01:53<00:00, 14.24s/it]\n",
            "                 Class     Images  Instances      Box(P          R      mAP50  mAP50-95): 100%|██████████| 4/4 [00:44<00:00, 11.14s/it]\n",
            "                   all        128        929      0.666      0.599      0.652      0.481\n",
            "\n",
            "3 epochs completed in 0.137 hours.\n",
            "Optimizer stripped from runs/detect/train/weights/last.pt, 6.5MB\n",
            "Optimizer stripped from runs/detect/train/weights/best.pt, 6.5MB\n",
            "\n",
            "Validating runs/detect/train/weights/best.pt...\n",
            "Ultralytics YOLOv8.0.82 🚀 Python-3.9.16 torch-2.0.0+cu118 CPU\n",
            "Model summary (fused): 168 layers, 3151904 parameters, 0 gradients, 8.7 GFLOPs\n",
            "                 Class     Images  Instances      Box(P          R      mAP50  mAP50-95): 100%|██████████| 4/4 [00:34<00:00,  8.60s/it]\n",
            "                   all        128        929      0.666      0.598      0.652      0.483\n",
            "                person        128        254      0.745      0.693      0.775      0.557\n",
            "               bicycle        128          6          1      0.327      0.377      0.283\n",
            "                   car        128         46      0.813      0.217      0.313      0.192\n",
            "            motorcycle        128          5      0.643        0.8       0.92      0.737\n",
            "              airplane        128          6      0.729      0.903      0.927       0.72\n",
            "                   bus        128          7      0.771      0.714      0.722      0.641\n",
            "                 train        128          3      0.554      0.667      0.806      0.712\n",
            "                 truck        128         12      0.842      0.417      0.511      0.341\n",
            "                  boat        128          6      0.302      0.167      0.331      0.246\n",
            "         traffic light        128         14      0.637      0.214      0.208      0.141\n",
            "             stop sign        128          2          1      0.989      0.995      0.722\n",
            "                 bench        128          9      0.832       0.55      0.702      0.438\n",
            "                  bird        128         16      0.887      0.875      0.971      0.641\n",
            "                   cat        128          4      0.867          1      0.995      0.776\n",
            "                   dog        128          9      0.556      0.836      0.793      0.623\n",
            "                 horse        128          2      0.698          1      0.995      0.491\n",
            "              elephant        128         17      0.837      0.941      0.933      0.724\n",
            "                  bear        128          1      0.427          1      0.995      0.995\n",
            "                 zebra        128          4      0.863          1      0.995      0.966\n",
            "               giraffe        128          9      0.802      0.898      0.963      0.707\n",
            "              backpack        128          6      0.585      0.333       0.43      0.254\n",
            "              umbrella        128         18      0.627      0.778      0.737      0.457\n",
            "               handbag        128         19          1      0.113      0.329      0.191\n",
            "                   tie        128          7      0.763      0.714      0.728      0.486\n",
            "              suitcase        128          4      0.487      0.953      0.745        0.5\n",
            "               frisbee        128          5      0.586        0.8      0.732      0.632\n",
            "                  skis        128          1      0.811          1      0.995      0.531\n",
            "             snowboard        128          7      0.553      0.714      0.808      0.497\n",
            "           sports ball        128          6      0.671      0.342      0.531      0.322\n",
            "                  kite        128         10      0.711        0.5      0.592       0.21\n",
            "          baseball bat        128          4      0.416       0.25      0.372      0.267\n",
            "        baseball glove        128          7      0.682      0.429       0.43      0.288\n",
            "            skateboard        128          5      0.582        0.6      0.599      0.426\n",
            "         tennis racket        128          7      0.632      0.497      0.493        0.3\n",
            "                bottle        128         18      0.561      0.333      0.378      0.239\n",
            "            wine glass        128         16      0.652      0.625       0.78      0.413\n",
            "                   cup        128         36      0.697      0.278      0.411      0.296\n",
            "                  fork        128          6      0.594      0.167      0.246      0.189\n",
            "                 knife        128         16       0.59      0.625      0.615       0.38\n",
            "                 spoon        128         22      0.545      0.273      0.343      0.201\n",
            "                  bowl        128         28      0.622      0.706      0.658      0.542\n",
            "                banana        128          1      0.143      0.717      0.199     0.0307\n",
            "              sandwich        128          2      0.538        0.5      0.828      0.828\n",
            "                orange        128          4          1      0.878      0.995      0.653\n",
            "              broccoli        128         11      0.435      0.273      0.285      0.233\n",
            "                carrot        128         24       0.55      0.667      0.685      0.429\n",
            "               hot dog        128          2      0.664          1      0.828      0.763\n",
            "                 pizza        128          5      0.699          1      0.995      0.853\n",
            "                 donut        128         14      0.623          1      0.907      0.819\n",
            "                  cake        128          4       0.82          1      0.995      0.904\n",
            "                 chair        128         35      0.542      0.486      0.491      0.292\n",
            "                 couch        128          6      0.664        0.5      0.728      0.519\n",
            "          potted plant        128         14      0.629      0.643      0.754      0.544\n",
            "                   bed        128          3      0.939          1      0.995      0.723\n",
            "          dining table        128         13      0.585      0.615      0.544      0.452\n",
            "                toilet        128          2      0.504        0.5      0.745      0.696\n",
            "                    tv        128          2      0.489        0.5      0.745      0.646\n",
            "                laptop        128          3      0.735      0.333       0.61      0.549\n",
            "                 mouse        128          2          1          0     0.0278    0.00556\n",
            "                remote        128          8      0.851        0.5      0.576      0.491\n",
            "            cell phone        128          8          0          0     0.0855     0.0431\n",
            "             microwave        128          3      0.605          1       0.83      0.727\n",
            "                  oven        128          5      0.568        0.4        0.4      0.299\n",
            "                  sink        128          6       0.33      0.167      0.322      0.162\n",
            "          refrigerator        128          5      0.661        0.4      0.671      0.535\n",
            "                  book        128         29      0.473      0.155      0.347      0.179\n",
            "                 clock        128          9      0.862      0.889      0.899      0.752\n",
            "                  vase        128          2      0.503          1      0.828      0.745\n",
            "              scissors        128          1          1          0      0.199     0.0796\n",
            "            teddy bear        128         21      0.698      0.441      0.628      0.419\n",
            "            toothbrush        128          5          1      0.673      0.962      0.631\n",
            "Speed: 5.4ms preprocess, 232.3ms inference, 0.0ms loss, 3.8ms postprocess per image\n",
            "Results saved to \u001b[1mruns/detect/train\u001b[0m\n",
            "\n",
            "Downloading https://ultralytics.com/images/bus.jpg to bus.jpg...\n",
            "100%|██████████| 476k/476k [00:00<00:00, 18.5MB/s]\n",
            "image 1/1 /content/bus.jpg: 640x480 4 persons, 1 bus, 1 stop sign, 177.2ms\n",
            "Speed: 1.3ms preprocess, 177.2ms inference, 1.5ms postprocess per image at shape (1, 3, 640, 640)\n"
          ]
        },
        {
          "output_type": "execute_result",
          "data": {
            "text/plain": [
              "[ultralytics.yolo.engine.results.Results object with attributes:\n",
              " \n",
              " boxes: ultralytics.yolo.engine.results.Boxes object\n",
              " keypoints: None\n",
              " keys: ['boxes']\n",
              " masks: None\n",
              " names: {0: 'person', 1: 'bicycle', 2: 'car', 3: 'motorcycle', 4: 'airplane', 5: 'bus', 6: 'train', 7: 'truck', 8: 'boat', 9: 'traffic light', 10: 'fire hydrant', 11: 'stop sign', 12: 'parking meter', 13: 'bench', 14: 'bird', 15: 'cat', 16: 'dog', 17: 'horse', 18: 'sheep', 19: 'cow', 20: 'elephant', 21: 'bear', 22: 'zebra', 23: 'giraffe', 24: 'backpack', 25: 'umbrella', 26: 'handbag', 27: 'tie', 28: 'suitcase', 29: 'frisbee', 30: 'skis', 31: 'snowboard', 32: 'sports ball', 33: 'kite', 34: 'baseball bat', 35: 'baseball glove', 36: 'skateboard', 37: 'surfboard', 38: 'tennis racket', 39: 'bottle', 40: 'wine glass', 41: 'cup', 42: 'fork', 43: 'knife', 44: 'spoon', 45: 'bowl', 46: 'banana', 47: 'apple', 48: 'sandwich', 49: 'orange', 50: 'broccoli', 51: 'carrot', 52: 'hot dog', 53: 'pizza', 54: 'donut', 55: 'cake', 56: 'chair', 57: 'couch', 58: 'potted plant', 59: 'bed', 60: 'dining table', 61: 'toilet', 62: 'tv', 63: 'laptop', 64: 'mouse', 65: 'remote', 66: 'keyboard', 67: 'cell phone', 68: 'microwave', 69: 'oven', 70: 'toaster', 71: 'sink', 72: 'refrigerator', 73: 'book', 74: 'clock', 75: 'vase', 76: 'scissors', 77: 'teddy bear', 78: 'hair drier', 79: 'toothbrush'}\n",
              " orig_img: array([[[122, 148, 172],\n",
              "         [120, 146, 170],\n",
              "         [125, 153, 177],\n",
              "         ...,\n",
              "         [157, 170, 184],\n",
              "         [158, 171, 185],\n",
              "         [158, 171, 185]],\n",
              " \n",
              "        [[127, 153, 177],\n",
              "         [124, 150, 174],\n",
              "         [127, 155, 179],\n",
              "         ...,\n",
              "         [158, 171, 185],\n",
              "         [159, 172, 186],\n",
              "         [159, 172, 186]],\n",
              " \n",
              "        [[128, 154, 178],\n",
              "         [126, 152, 176],\n",
              "         [126, 154, 178],\n",
              "         ...,\n",
              "         [158, 171, 185],\n",
              "         [158, 171, 185],\n",
              "         [158, 171, 185]],\n",
              " \n",
              "        ...,\n",
              " \n",
              "        [[185, 185, 191],\n",
              "         [182, 182, 188],\n",
              "         [179, 179, 185],\n",
              "         ...,\n",
              "         [114, 107, 112],\n",
              "         [115, 105, 111],\n",
              "         [116, 106, 112]],\n",
              " \n",
              "        [[157, 157, 163],\n",
              "         [180, 180, 186],\n",
              "         [185, 186, 190],\n",
              "         ...,\n",
              "         [107,  97, 103],\n",
              "         [102,  92,  98],\n",
              "         [108,  98, 104]],\n",
              " \n",
              "        [[112, 112, 118],\n",
              "         [160, 160, 166],\n",
              "         [169, 170, 174],\n",
              "         ...,\n",
              "         [ 99,  89,  95],\n",
              "         [ 96,  86,  92],\n",
              "         [102,  92,  98]]], dtype=uint8)\n",
              " orig_shape: (1080, 810)\n",
              " path: '/content/bus.jpg'\n",
              " probs: None\n",
              " speed: {'preprocess': 1.3484954833984375, 'inference': 177.16407775878906, 'postprocess': 1.5187263488769531}]"
            ]
          },
          "metadata": {},
          "execution_count": 4
        }
      ]
    },
    {
      "cell_type": "code",
      "source": [
        "!yolo predict model=yolov8n.pt source='https://ultralytics.com/images/bus.jpg'"
      ],
      "metadata": {
        "colab": {
          "base_uri": "https://localhost:8080/"
        },
        "id": "JcMcCymZP-Ki",
        "outputId": "25aa2ebc-bab1-402d-9159-9de91655364f"
      },
      "execution_count": 5,
      "outputs": [
        {
          "output_type": "stream",
          "name": "stdout",
          "text": [
            "Ultralytics YOLOv8.0.82 🚀 Python-3.9.16 torch-2.0.0+cu118 CPU\n",
            "YOLOv8n summary (fused): 168 layers, 3151904 parameters, 0 gradients, 8.7 GFLOPs\n",
            "\n",
            "Found https://ultralytics.com/images/bus.jpg locally at bus.jpg\n",
            "image 1/1 /content/bus.jpg: 640x480 4 persons, 1 bus, 1 stop sign, 223.1ms\n",
            "Speed: 6.5ms preprocess, 223.1ms inference, 2.6ms postprocess per image at shape (1, 3, 640, 640)\n",
            "Results saved to \u001b[1mruns/detect/predict2\u001b[0m\n"
          ]
        }
      ]
    },
    {
      "cell_type": "markdown",
      "source": [
        "# Segmentation"
      ],
      "metadata": {
        "id": "0WQIb2aeL9mT"
      }
    },
    {
      "cell_type": "code",
      "source": [
        "# Image segmentation with yolo CLI\n",
        "!yolo segment predict model=yolov8n-seg.pt source='https://ultralytics.com/images/bus.jpg'"
      ],
      "metadata": {
        "colab": {
          "base_uri": "https://localhost:8080/"
        },
        "id": "CFsEQb5_Rfw6",
        "outputId": "b70bc5b1-049b-468f-d188-d6a1719e40b5"
      },
      "execution_count": 6,
      "outputs": [
        {
          "output_type": "stream",
          "name": "stdout",
          "text": [
            "Downloading https://github.com/ultralytics/assets/releases/download/v0.0.0/yolov8n-seg.pt to yolov8n-seg.pt...\n",
            "100% 6.73M/6.73M [00:00<00:00, 73.0MB/s]\n",
            "Ultralytics YOLOv8.0.82 🚀 Python-3.9.16 torch-2.0.0+cu118 CPU\n",
            "YOLOv8n-seg summary (fused): 195 layers, 3404320 parameters, 0 gradients, 12.6 GFLOPs\n",
            "\n",
            "Found https://ultralytics.com/images/bus.jpg locally at bus.jpg\n",
            "image 1/1 /content/bus.jpg: 640x480 4 persons, 1 bus, 1 skateboard, 461.4ms\n",
            "Speed: 8.6ms preprocess, 461.4ms inference, 44.0ms postprocess per image at shape (1, 3, 640, 640)\n",
            "Results saved to \u001b[1mruns/segment/predict\u001b[0m\n"
          ]
        }
      ]
    },
    {
      "cell_type": "markdown",
      "source": [
        "# Classification"
      ],
      "metadata": {
        "id": "opQKHe0oTovZ"
      }
    },
    {
      "cell_type": "code",
      "source": [
        "# Image classification with yolo CLI\n",
        "!yolo classify predict model=yolov8n-cls.pt source='https://ultralytics.com/images/bus.jpg'"
      ],
      "metadata": {
        "colab": {
          "base_uri": "https://localhost:8080/"
        },
        "id": "vbERZi6NTu2A",
        "outputId": "072f9a40-941b-4de2-85b5-2e97d4cf7253"
      },
      "execution_count": 7,
      "outputs": [
        {
          "output_type": "stream",
          "name": "stdout",
          "text": [
            "Downloading https://github.com/ultralytics/assets/releases/download/v0.0.0/yolov8n-cls.pt to yolov8n-cls.pt...\n",
            "100% 5.28M/5.28M [00:00<00:00, 70.2MB/s]\n",
            "Ultralytics YOLOv8.0.82 🚀 Python-3.9.16 torch-2.0.0+cu118 CPU\n",
            "YOLOv8n-cls summary (fused): 73 layers, 2715880 parameters, 0 gradients, 4.3 GFLOPs\n",
            "\n",
            "Found https://ultralytics.com/images/bus.jpg locally at bus.jpg\n",
            "image 1/1 /content/bus.jpg: 224x224 minibus 0.43, police_van 0.29, ambulance 0.06, recreational_vehicle 0.04, bullet_train 0.03, 18.6ms\n",
            "Speed: 0.0ms preprocess, 18.6ms inference, 0.1ms postprocess per image at shape (1, 3, 224, 224)\n",
            "Results saved to \u001b[1mruns/classify/predict\u001b[0m\n"
          ]
        }
      ]
    },
    {
      "cell_type": "markdown",
      "source": [
        "# Pose Detection"
      ],
      "metadata": {
        "id": "PwGdoX3KUOGg"
      }
    },
    {
      "cell_type": "code",
      "source": [
        "# Pose estimation with yolo CLI\n",
        "!yolo pose predict model=yolov8n-pose.pt source='https://ultralytics.com/images/bus.jpg'"
      ],
      "metadata": {
        "colab": {
          "base_uri": "https://localhost:8080/"
        },
        "id": "fyFsYEOYUQw1",
        "outputId": "ed0d7a90-d50a-4ca4-dcba-73e298015880"
      },
      "execution_count": 11,
      "outputs": [
        {
          "output_type": "stream",
          "name": "stdout",
          "text": [
            "Ultralytics YOLOv8.0.82 🚀 Python-3.9.16 torch-2.0.0+cu118 CPU\n",
            "YOLOv8n-pose summary (fused): 187 layers, 3289964 parameters, 0 gradients, 9.2 GFLOPs\n",
            "\n",
            "image 1/1 /content/dog.jpeg: 480x640 1 person, 197.4ms\n",
            "Speed: 3.2ms preprocess, 197.4ms inference, 1.8ms postprocess per image at shape (1, 3, 640, 640)\n",
            "Results saved to \u001b[1mruns/pose/predict3\u001b[0m\n"
          ]
        }
      ]
    }
  ]
}